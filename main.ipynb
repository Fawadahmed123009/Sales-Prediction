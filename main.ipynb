{
 "cells": [
  {
   "cell_type": "code",
   "execution_count": 2,
   "metadata": {},
   "outputs": [],
   "source": [
    "import os\n"
   ]
  },
  {
   "cell_type": "code",
   "execution_count": 3,
   "metadata": {},
   "outputs": [],
   "source": [
    "# Data handling and manipulation\n",
    "import pandas as pd\n",
    "import numpy as np\n",
    "\n",
    "# Data preprocessing\n",
    "from sklearn.preprocessing import MinMaxScaler, StandardScaler\n",
    "\n",
    "# Model building and evaluation\n",
    "from sklearn.model_selection import train_test_split\n",
    "from sklearn.metrics import mean_squared_error, mean_absolute_error, r2_score\n",
    "from sklearn.linear_model import LinearRegression\n",
    "from sklearn.ensemble import RandomForestRegressor\n",
    "from xgboost import XGBRegressor  # Corrected from XGBRegression to XGBRegressor\n",
    "\n",
    "# Deep Learning (TensorFlow / Keras)\n",
    "from tensorflow.keras.models import Sequential\n",
    "from tensorflow.keras.layers import Dense, LSTM\n",
    "from tensorflow.keras.callbacks import EarlyStopping, ModelCheckpoint\n",
    "\n",
    "# Visualization\n",
    "import matplotlib.pyplot as plt\n",
    "import seaborn as sns"
   ]
  },
  {
   "cell_type": "code",
   "execution_count": 4,
   "metadata": {},
   "outputs": [
    {
     "data": {
      "text/html": [
       "<div>\n",
       "<style scoped>\n",
       "    .dataframe tbody tr th:only-of-type {\n",
       "        vertical-align: middle;\n",
       "    }\n",
       "\n",
       "    .dataframe tbody tr th {\n",
       "        vertical-align: top;\n",
       "    }\n",
       "\n",
       "    .dataframe thead th {\n",
       "        text-align: right;\n",
       "    }\n",
       "</style>\n",
       "<table border=\"1\" class=\"dataframe\">\n",
       "  <thead>\n",
       "    <tr style=\"text-align: right;\">\n",
       "      <th></th>\n",
       "      <th>date</th>\n",
       "      <th>store</th>\n",
       "      <th>item</th>\n",
       "      <th>sales</th>\n",
       "    </tr>\n",
       "  </thead>\n",
       "  <tbody>\n",
       "    <tr>\n",
       "      <th>0</th>\n",
       "      <td>2013-01-01</td>\n",
       "      <td>1</td>\n",
       "      <td>1</td>\n",
       "      <td>13</td>\n",
       "    </tr>\n",
       "    <tr>\n",
       "      <th>1</th>\n",
       "      <td>2013-01-02</td>\n",
       "      <td>1</td>\n",
       "      <td>1</td>\n",
       "      <td>11</td>\n",
       "    </tr>\n",
       "    <tr>\n",
       "      <th>2</th>\n",
       "      <td>2013-01-03</td>\n",
       "      <td>1</td>\n",
       "      <td>1</td>\n",
       "      <td>14</td>\n",
       "    </tr>\n",
       "    <tr>\n",
       "      <th>3</th>\n",
       "      <td>2013-01-04</td>\n",
       "      <td>1</td>\n",
       "      <td>1</td>\n",
       "      <td>13</td>\n",
       "    </tr>\n",
       "    <tr>\n",
       "      <th>4</th>\n",
       "      <td>2013-01-05</td>\n",
       "      <td>1</td>\n",
       "      <td>1</td>\n",
       "      <td>10</td>\n",
       "    </tr>\n",
       "    <tr>\n",
       "      <th>5</th>\n",
       "      <td>2013-01-06</td>\n",
       "      <td>1</td>\n",
       "      <td>1</td>\n",
       "      <td>12</td>\n",
       "    </tr>\n",
       "    <tr>\n",
       "      <th>6</th>\n",
       "      <td>2013-01-07</td>\n",
       "      <td>1</td>\n",
       "      <td>1</td>\n",
       "      <td>10</td>\n",
       "    </tr>\n",
       "    <tr>\n",
       "      <th>7</th>\n",
       "      <td>2013-01-08</td>\n",
       "      <td>1</td>\n",
       "      <td>1</td>\n",
       "      <td>9</td>\n",
       "    </tr>\n",
       "    <tr>\n",
       "      <th>8</th>\n",
       "      <td>2013-01-09</td>\n",
       "      <td>1</td>\n",
       "      <td>1</td>\n",
       "      <td>12</td>\n",
       "    </tr>\n",
       "    <tr>\n",
       "      <th>9</th>\n",
       "      <td>2013-01-10</td>\n",
       "      <td>1</td>\n",
       "      <td>1</td>\n",
       "      <td>9</td>\n",
       "    </tr>\n",
       "  </tbody>\n",
       "</table>\n",
       "</div>"
      ],
      "text/plain": [
       "         date  store  item  sales\n",
       "0  2013-01-01      1     1     13\n",
       "1  2013-01-02      1     1     11\n",
       "2  2013-01-03      1     1     14\n",
       "3  2013-01-04      1     1     13\n",
       "4  2013-01-05      1     1     10\n",
       "5  2013-01-06      1     1     12\n",
       "6  2013-01-07      1     1     10\n",
       "7  2013-01-08      1     1      9\n",
       "8  2013-01-09      1     1     12\n",
       "9  2013-01-10      1     1      9"
      ]
     },
     "execution_count": 4,
     "metadata": {},
     "output_type": "execute_result"
    }
   ],
   "source": [
    "store_sales = pd.read_csv('train.csv')\n",
    "store_sales.head(10)"
   ]
  },
  {
   "cell_type": "code",
   "execution_count": 5,
   "metadata": {},
   "outputs": [
    {
     "name": "stdout",
     "output_type": "stream",
     "text": [
      "<class 'pandas.core.frame.DataFrame'>\n",
      "RangeIndex: 913000 entries, 0 to 912999\n",
      "Data columns (total 4 columns):\n",
      " #   Column  Non-Null Count   Dtype \n",
      "---  ------  --------------   ----- \n",
      " 0   date    913000 non-null  object\n",
      " 1   store   913000 non-null  int64 \n",
      " 2   item    913000 non-null  int64 \n",
      " 3   sales   913000 non-null  int64 \n",
      "dtypes: int64(3), object(1)\n",
      "memory usage: 27.9+ MB\n"
     ]
    }
   ],
   "source": [
    "#check for null values\n",
    "store_sales.info()"
   ]
  },
  {
   "cell_type": "code",
   "execution_count": 6,
   "metadata": {},
   "outputs": [],
   "source": [
    "#Droppping store and item columns\n",
    "store_sales=store_sales.drop(['store', 'item'], axis=1)"
   ]
  },
  {
   "cell_type": "code",
   "execution_count": 7,
   "metadata": {},
   "outputs": [
    {
     "name": "stdout",
     "output_type": "stream",
     "text": [
      "<class 'pandas.core.frame.DataFrame'>\n",
      "RangeIndex: 913000 entries, 0 to 912999\n",
      "Data columns (total 2 columns):\n",
      " #   Column  Non-Null Count   Dtype \n",
      "---  ------  --------------   ----- \n",
      " 0   date    913000 non-null  object\n",
      " 1   sales   913000 non-null  int64 \n",
      "dtypes: int64(1), object(1)\n",
      "memory usage: 13.9+ MB\n"
     ]
    }
   ],
   "source": [
    "store_sales.info()"
   ]
  },
  {
   "cell_type": "code",
   "execution_count": 8,
   "metadata": {},
   "outputs": [],
   "source": [
    "#converting date from object to dateTime\n",
    "store_sales['date'] = pd.to_datetime(store_sales['date'])"
   ]
  },
  {
   "cell_type": "code",
   "execution_count": 9,
   "metadata": {},
   "outputs": [
    {
     "name": "stdout",
     "output_type": "stream",
     "text": [
      "<class 'pandas.core.frame.DataFrame'>\n",
      "RangeIndex: 913000 entries, 0 to 912999\n",
      "Data columns (total 2 columns):\n",
      " #   Column  Non-Null Count   Dtype         \n",
      "---  ------  --------------   -----         \n",
      " 0   date    913000 non-null  datetime64[ns]\n",
      " 1   sales   913000 non-null  int64         \n",
      "dtypes: datetime64[ns](1), int64(1)\n",
      "memory usage: 13.9 MB\n"
     ]
    }
   ],
   "source": [
    "store_sales.info()"
   ]
  },
  {
   "cell_type": "code",
   "execution_count": 10,
   "metadata": {},
   "outputs": [],
   "source": [
    "#converting Date to month and then sum number of i=tems in each month\n",
    "store_sales['date'] = store_sales['date'].dt.to_period(\"M\")\n",
    "monthly_sales = store_sales.groupby('date').sum().reset_index()"
   ]
  },
  {
   "cell_type": "code",
   "execution_count": 11,
   "metadata": {},
   "outputs": [],
   "source": [
    "#convert the resulting date column to timestamp data type\n",
    "monthly_sales['date'] = monthly_sales['date'].dt.to_timestamp()"
   ]
  },
  {
   "cell_type": "code",
   "execution_count": 12,
   "metadata": {},
   "outputs": [
    {
     "data": {
      "text/html": [
       "<div>\n",
       "<style scoped>\n",
       "    .dataframe tbody tr th:only-of-type {\n",
       "        vertical-align: middle;\n",
       "    }\n",
       "\n",
       "    .dataframe tbody tr th {\n",
       "        vertical-align: top;\n",
       "    }\n",
       "\n",
       "    .dataframe thead th {\n",
       "        text-align: right;\n",
       "    }\n",
       "</style>\n",
       "<table border=\"1\" class=\"dataframe\">\n",
       "  <thead>\n",
       "    <tr style=\"text-align: right;\">\n",
       "      <th></th>\n",
       "      <th>date</th>\n",
       "      <th>sales</th>\n",
       "    </tr>\n",
       "  </thead>\n",
       "  <tbody>\n",
       "    <tr>\n",
       "      <th>0</th>\n",
       "      <td>2013-01-01</td>\n",
       "      <td>454904</td>\n",
       "    </tr>\n",
       "    <tr>\n",
       "      <th>1</th>\n",
       "      <td>2013-02-01</td>\n",
       "      <td>459417</td>\n",
       "    </tr>\n",
       "    <tr>\n",
       "      <th>2</th>\n",
       "      <td>2013-03-01</td>\n",
       "      <td>617382</td>\n",
       "    </tr>\n",
       "    <tr>\n",
       "      <th>3</th>\n",
       "      <td>2013-04-01</td>\n",
       "      <td>682274</td>\n",
       "    </tr>\n",
       "    <tr>\n",
       "      <th>4</th>\n",
       "      <td>2013-05-01</td>\n",
       "      <td>763242</td>\n",
       "    </tr>\n",
       "    <tr>\n",
       "      <th>5</th>\n",
       "      <td>2013-06-01</td>\n",
       "      <td>795597</td>\n",
       "    </tr>\n",
       "    <tr>\n",
       "      <th>6</th>\n",
       "      <td>2013-07-01</td>\n",
       "      <td>855922</td>\n",
       "    </tr>\n",
       "    <tr>\n",
       "      <th>7</th>\n",
       "      <td>2013-08-01</td>\n",
       "      <td>766761</td>\n",
       "    </tr>\n",
       "    <tr>\n",
       "      <th>8</th>\n",
       "      <td>2013-09-01</td>\n",
       "      <td>689907</td>\n",
       "    </tr>\n",
       "    <tr>\n",
       "      <th>9</th>\n",
       "      <td>2013-10-01</td>\n",
       "      <td>656587</td>\n",
       "    </tr>\n",
       "  </tbody>\n",
       "</table>\n",
       "</div>"
      ],
      "text/plain": [
       "        date   sales\n",
       "0 2013-01-01  454904\n",
       "1 2013-02-01  459417\n",
       "2 2013-03-01  617382\n",
       "3 2013-04-01  682274\n",
       "4 2013-05-01  763242\n",
       "5 2013-06-01  795597\n",
       "6 2013-07-01  855922\n",
       "7 2013-08-01  766761\n",
       "8 2013-09-01  689907\n",
       "9 2013-10-01  656587"
      ]
     },
     "execution_count": 12,
     "metadata": {},
     "output_type": "execute_result"
    }
   ],
   "source": [
    "monthly_sales.head(10)"
   ]
  },
  {
   "cell_type": "code",
   "execution_count": 13,
   "metadata": {},
   "outputs": [
    {
     "data": {
      "text/plain": [
       "Text(0.5, 1.0, 'Monthly Sales')"
      ]
     },
     "execution_count": 13,
     "metadata": {},
     "output_type": "execute_result"
    },
    {
     "data": {
      "image/png": "[encoded data removed]",
      "text/plain": [
       "<Figure size 1500x500 with 1 Axes>"
      ]
     },
     "metadata": {},
     "output_type": "display_data"
    }
   ],
   "source": [
    "#visualize the monthly sales\n",
    "plt.figure(figsize=(15, 5))\n",
    "plt.plot(monthly_sales['date'], monthly_sales['sales'])\n",
    "plt.xlabel('Date')\n",
    "plt.ylabel('Sales')\n",
    "plt.title('Monthly Sales')"
   ]
  },
  {
   "cell_type": "code",
   "execution_count": 14,
   "metadata": {},
   "outputs": [
    {
     "data": {
      "text/html": [
       "<div>\n",
       "<style scoped>\n",
       "    .dataframe tbody tr th:only-of-type {\n",
       "        vertical-align: middle;\n",
       "    }\n",
       "\n",
       "    .dataframe tbody tr th {\n",
       "        vertical-align: top;\n",
       "    }\n",
       "\n",
       "    .dataframe thead th {\n",
       "        text-align: right;\n",
       "    }\n",
       "</style>\n",
       "<table border=\"1\" class=\"dataframe\">\n",
       "  <thead>\n",
       "    <tr style=\"text-align: right;\">\n",
       "      <th></th>\n",
       "      <th>date</th>\n",
       "      <th>sales</th>\n",
       "      <th>sales_diff</th>\n",
       "    </tr>\n",
       "  </thead>\n",
       "  <tbody>\n",
       "    <tr>\n",
       "      <th>1</th>\n",
       "      <td>2013-02-01</td>\n",
       "      <td>459417</td>\n",
       "      <td>4513.0</td>\n",
       "    </tr>\n",
       "    <tr>\n",
       "      <th>2</th>\n",
       "      <td>2013-03-01</td>\n",
       "      <td>617382</td>\n",
       "      <td>157965.0</td>\n",
       "    </tr>\n",
       "    <tr>\n",
       "      <th>3</th>\n",
       "      <td>2013-04-01</td>\n",
       "      <td>682274</td>\n",
       "      <td>64892.0</td>\n",
       "    </tr>\n",
       "    <tr>\n",
       "      <th>4</th>\n",
       "      <td>2013-05-01</td>\n",
       "      <td>763242</td>\n",
       "      <td>80968.0</td>\n",
       "    </tr>\n",
       "    <tr>\n",
       "      <th>5</th>\n",
       "      <td>2013-06-01</td>\n",
       "      <td>795597</td>\n",
       "      <td>32355.0</td>\n",
       "    </tr>\n",
       "    <tr>\n",
       "      <th>6</th>\n",
       "      <td>2013-07-01</td>\n",
       "      <td>855922</td>\n",
       "      <td>60325.0</td>\n",
       "    </tr>\n",
       "    <tr>\n",
       "      <th>7</th>\n",
       "      <td>2013-08-01</td>\n",
       "      <td>766761</td>\n",
       "      <td>-89161.0</td>\n",
       "    </tr>\n",
       "    <tr>\n",
       "      <th>8</th>\n",
       "      <td>2013-09-01</td>\n",
       "      <td>689907</td>\n",
       "      <td>-76854.0</td>\n",
       "    </tr>\n",
       "    <tr>\n",
       "      <th>9</th>\n",
       "      <td>2013-10-01</td>\n",
       "      <td>656587</td>\n",
       "      <td>-33320.0</td>\n",
       "    </tr>\n",
       "    <tr>\n",
       "      <th>10</th>\n",
       "      <td>2013-11-01</td>\n",
       "      <td>692643</td>\n",
       "      <td>36056.0</td>\n",
       "    </tr>\n",
       "  </tbody>\n",
       "</table>\n",
       "</div>"
      ],
      "text/plain": [
       "         date   sales  sales_diff\n",
       "1  2013-02-01  459417      4513.0\n",
       "2  2013-03-01  617382    157965.0\n",
       "3  2013-04-01  682274     64892.0\n",
       "4  2013-05-01  763242     80968.0\n",
       "5  2013-06-01  795597     32355.0\n",
       "6  2013-07-01  855922     60325.0\n",
       "7  2013-08-01  766761    -89161.0\n",
       "8  2013-09-01  689907    -76854.0\n",
       "9  2013-10-01  656587    -33320.0\n",
       "10 2013-11-01  692643     36056.0"
      ]
     },
     "execution_count": 14,
     "metadata": {},
     "output_type": "execute_result"
    }
   ],
   "source": [
    "  #call difference on sale column to get the difference between the current and previous month\n",
    "monthly_sales['sales_diff'] = monthly_sales['sales'].diff()\n",
    "monthly_sales=monthly_sales.dropna()\n",
    "monthly_sales.head(10)"
   ]
  },
  {
   "cell_type": "code",
   "execution_count": 15,
   "metadata": {},
   "outputs": [],
   "source": [
    "# creating supervised learning data by droping off sales and date\n",
    "supervised_data = monthly_sales.drop(['date','sales'], axis=1)"
   ]
  },
  {
   "cell_type": "code",
   "execution_count": 16,
   "metadata": {},
   "outputs": [
    {
     "data": {
      "text/html": [
       "<div>\n",
       "<style scoped>\n",
       "    .dataframe tbody tr th:only-of-type {\n",
       "        vertical-align: middle;\n",
       "    }\n",
       "\n",
       "    .dataframe tbody tr th {\n",
       "        vertical-align: top;\n",
       "    }\n",
       "\n",
       "    .dataframe thead th {\n",
       "        text-align: right;\n",
       "    }\n",
       "</style>\n",
       "<table border=\"1\" class=\"dataframe\">\n",
       "  <thead>\n",
       "    <tr style=\"text-align: right;\">\n",
       "      <th></th>\n",
       "      <th>sales_diff</th>\n",
       "      <th>month1</th>\n",
       "      <th>month2</th>\n",
       "      <th>month3</th>\n",
       "      <th>month4</th>\n",
       "      <th>month5</th>\n",
       "      <th>month6</th>\n",
       "      <th>month7</th>\n",
       "      <th>month8</th>\n",
       "      <th>month9</th>\n",
       "      <th>month10</th>\n",
       "      <th>month11</th>\n",
       "      <th>month12</th>\n",
       "    </tr>\n",
       "  </thead>\n",
       "  <tbody>\n",
       "    <tr>\n",
       "      <th>0</th>\n",
       "      <td>3130.0</td>\n",
       "      <td>19380.0</td>\n",
       "      <td>-186036.0</td>\n",
       "      <td>36056.0</td>\n",
       "      <td>-33320.0</td>\n",
       "      <td>-76854.0</td>\n",
       "      <td>-89161.0</td>\n",
       "      <td>60325.0</td>\n",
       "      <td>32355.0</td>\n",
       "      <td>80968.0</td>\n",
       "      <td>64892.0</td>\n",
       "      <td>157965.0</td>\n",
       "      <td>4513.0</td>\n",
       "    </tr>\n",
       "    <tr>\n",
       "      <th>1</th>\n",
       "      <td>175184.0</td>\n",
       "      <td>3130.0</td>\n",
       "      <td>19380.0</td>\n",
       "      <td>-186036.0</td>\n",
       "      <td>36056.0</td>\n",
       "      <td>-33320.0</td>\n",
       "      <td>-76854.0</td>\n",
       "      <td>-89161.0</td>\n",
       "      <td>60325.0</td>\n",
       "      <td>32355.0</td>\n",
       "      <td>80968.0</td>\n",
       "      <td>64892.0</td>\n",
       "      <td>157965.0</td>\n",
       "    </tr>\n",
       "    <tr>\n",
       "      <th>2</th>\n",
       "      <td>84613.0</td>\n",
       "      <td>175184.0</td>\n",
       "      <td>3130.0</td>\n",
       "      <td>19380.0</td>\n",
       "      <td>-186036.0</td>\n",
       "      <td>36056.0</td>\n",
       "      <td>-33320.0</td>\n",
       "      <td>-76854.0</td>\n",
       "      <td>-89161.0</td>\n",
       "      <td>60325.0</td>\n",
       "      <td>32355.0</td>\n",
       "      <td>80968.0</td>\n",
       "      <td>64892.0</td>\n",
       "    </tr>\n",
       "    <tr>\n",
       "      <th>3</th>\n",
       "      <td>93963.0</td>\n",
       "      <td>84613.0</td>\n",
       "      <td>175184.0</td>\n",
       "      <td>3130.0</td>\n",
       "      <td>19380.0</td>\n",
       "      <td>-186036.0</td>\n",
       "      <td>36056.0</td>\n",
       "      <td>-33320.0</td>\n",
       "      <td>-76854.0</td>\n",
       "      <td>-89161.0</td>\n",
       "      <td>60325.0</td>\n",
       "      <td>32355.0</td>\n",
       "      <td>80968.0</td>\n",
       "    </tr>\n",
       "    <tr>\n",
       "      <th>4</th>\n",
       "      <td>23965.0</td>\n",
       "      <td>93963.0</td>\n",
       "      <td>84613.0</td>\n",
       "      <td>175184.0</td>\n",
       "      <td>3130.0</td>\n",
       "      <td>19380.0</td>\n",
       "      <td>-186036.0</td>\n",
       "      <td>36056.0</td>\n",
       "      <td>-33320.0</td>\n",
       "      <td>-76854.0</td>\n",
       "      <td>-89161.0</td>\n",
       "      <td>60325.0</td>\n",
       "      <td>32355.0</td>\n",
       "    </tr>\n",
       "    <tr>\n",
       "      <th>5</th>\n",
       "      <td>82168.0</td>\n",
       "      <td>23965.0</td>\n",
       "      <td>93963.0</td>\n",
       "      <td>84613.0</td>\n",
       "      <td>175184.0</td>\n",
       "      <td>3130.0</td>\n",
       "      <td>19380.0</td>\n",
       "      <td>-186036.0</td>\n",
       "      <td>36056.0</td>\n",
       "      <td>-33320.0</td>\n",
       "      <td>-76854.0</td>\n",
       "      <td>-89161.0</td>\n",
       "      <td>60325.0</td>\n",
       "    </tr>\n",
       "    <tr>\n",
       "      <th>6</th>\n",
       "      <td>-103414.0</td>\n",
       "      <td>82168.0</td>\n",
       "      <td>23965.0</td>\n",
       "      <td>93963.0</td>\n",
       "      <td>84613.0</td>\n",
       "      <td>175184.0</td>\n",
       "      <td>3130.0</td>\n",
       "      <td>19380.0</td>\n",
       "      <td>-186036.0</td>\n",
       "      <td>36056.0</td>\n",
       "      <td>-33320.0</td>\n",
       "      <td>-76854.0</td>\n",
       "      <td>-89161.0</td>\n",
       "    </tr>\n",
       "    <tr>\n",
       "      <th>7</th>\n",
       "      <td>-100472.0</td>\n",
       "      <td>-103414.0</td>\n",
       "      <td>82168.0</td>\n",
       "      <td>23965.0</td>\n",
       "      <td>93963.0</td>\n",
       "      <td>84613.0</td>\n",
       "      <td>175184.0</td>\n",
       "      <td>3130.0</td>\n",
       "      <td>19380.0</td>\n",
       "      <td>-186036.0</td>\n",
       "      <td>36056.0</td>\n",
       "      <td>-33320.0</td>\n",
       "      <td>-76854.0</td>\n",
       "    </tr>\n",
       "    <tr>\n",
       "      <th>8</th>\n",
       "      <td>-26241.0</td>\n",
       "      <td>-100472.0</td>\n",
       "      <td>-103414.0</td>\n",
       "      <td>82168.0</td>\n",
       "      <td>23965.0</td>\n",
       "      <td>93963.0</td>\n",
       "      <td>84613.0</td>\n",
       "      <td>175184.0</td>\n",
       "      <td>3130.0</td>\n",
       "      <td>19380.0</td>\n",
       "      <td>-186036.0</td>\n",
       "      <td>36056.0</td>\n",
       "      <td>-33320.0</td>\n",
       "    </tr>\n",
       "    <tr>\n",
       "      <th>9</th>\n",
       "      <td>41900.0</td>\n",
       "      <td>-26241.0</td>\n",
       "      <td>-100472.0</td>\n",
       "      <td>-103414.0</td>\n",
       "      <td>82168.0</td>\n",
       "      <td>23965.0</td>\n",
       "      <td>93963.0</td>\n",
       "      <td>84613.0</td>\n",
       "      <td>175184.0</td>\n",
       "      <td>3130.0</td>\n",
       "      <td>19380.0</td>\n",
       "      <td>-186036.0</td>\n",
       "      <td>36056.0</td>\n",
       "    </tr>\n",
       "  </tbody>\n",
       "</table>\n",
       "</div>"
      ],
      "text/plain": [
       "   sales_diff    month1    month2    month3    month4    month5    month6  \\\n",
       "0      3130.0   19380.0 -186036.0   36056.0  -33320.0  -76854.0  -89161.0   \n",
       "1    175184.0    3130.0   19380.0 -186036.0   36056.0  -33320.0  -76854.0   \n",
       "2     84613.0  175184.0    3130.0   19380.0 -186036.0   36056.0  -33320.0   \n",
       "3     93963.0   84613.0  175184.0    3130.0   19380.0 -186036.0   36056.0   \n",
       "4     23965.0   93963.0   84613.0  175184.0    3130.0   19380.0 -186036.0   \n",
       "5     82168.0   23965.0   93963.0   84613.0  175184.0    3130.0   19380.0   \n",
       "6   -103414.0   82168.0   23965.0   93963.0   84613.0  175184.0    3130.0   \n",
       "7   -100472.0 -103414.0   82168.0   23965.0   93963.0   84613.0  175184.0   \n",
       "8    -26241.0 -100472.0 -103414.0   82168.0   23965.0   93963.0   84613.0   \n",
       "9     41900.0  -26241.0 -100472.0 -103414.0   82168.0   23965.0   93963.0   \n",
       "\n",
       "     month7    month8    month9   month10   month11   month12  \n",
       "0   60325.0   32355.0   80968.0   64892.0  157965.0    4513.0  \n",
       "1  -89161.0   60325.0   32355.0   80968.0   64892.0  157965.0  \n",
       "2  -76854.0  -89161.0   60325.0   32355.0   80968.0   64892.0  \n",
       "3  -33320.0  -76854.0  -89161.0   60325.0   32355.0   80968.0  \n",
       "4   36056.0  -33320.0  -76854.0  -89161.0   60325.0   32355.0  \n",
       "5 -186036.0   36056.0  -33320.0  -76854.0  -89161.0   60325.0  \n",
       "6   19380.0 -186036.0   36056.0  -33320.0  -76854.0  -89161.0  \n",
       "7    3130.0   19380.0 -186036.0   36056.0  -33320.0  -76854.0  \n",
       "8  175184.0    3130.0   19380.0 -186036.0   36056.0  -33320.0  \n",
       "9   84613.0  175184.0    3130.0   19380.0 -186036.0   36056.0  "
      ]
     },
     "execution_count": 16,
     "metadata": {},
     "output_type": "execute_result"
    }
   ],
   "source": [
    "for i in range(1,13):\n",
    "      col_name='month'+str(i)\n",
    "      supervised_data[col_name]=supervised_data['sales_diff'].shift(i)\n",
    "supervised_data=supervised_data.dropna().reset_index(drop=True)\n",
    "supervised_data.head(10)"
   ]
  },
  {
   "cell_type": "code",
   "execution_count": 17,
   "metadata": {},
   "outputs": [],
   "source": [
    "# splitting data in train and test\n",
    "train_data=supervised_data[:-12]\n",
    "test_data=supervised_data[-12:]\n",
    "\n"
   ]
  },
  {
   "cell_type": "code",
   "execution_count": 18,
   "metadata": {},
   "outputs": [],
   "source": [
    "scalar =MinMaxScaler(feature_range=(-1,1))\n",
    "scalar.fit(train_data)\n",
    "train_data=scalar.transform(train_data)   \n",
    "test_data=scalar.transform(test_data)"
   ]
  },
  {
   "cell_type": "code",
   "execution_count": 19,
   "metadata": {},
   "outputs": [],
   "source": [
    "X_train, y_train = train_data[:, 1:], train_data[:, 0:1]\n",
    "X_test, y_test = test_data[:, 1:], test_data[:, 0:1]\n",
    "y_train=y_train.ravel()\n",
    "y_test=y_test.ravel()"
   ]
  },
  {
   "cell_type": "code",
   "execution_count": 20,
   "metadata": {},
   "outputs": [],
   "source": [
    "#make prediction dataframe to merge predicted sales price of all trained models\n",
    "sales_date=monthly_sales['date'][-12:].reset_index(drop=True)     \n",
    "predict_df=pd.DataFrame(sales_date)"
   ]
  },
  {
   "cell_type": "code",
   "execution_count": 21,
   "metadata": {},
   "outputs": [],
   "source": [
    "act_sales=monthly_sales['sales'][-12:].to_list()"
   ]
  },
  {
   "cell_type": "code",
   "execution_count": 22,
   "metadata": {},
   "outputs": [],
   "source": [
    "#Linear Regression\n",
    "lr_model=LinearRegression()\n",
    "lr_model.fit(X_train, y_train)\n",
    "lr_pred=lr_model.predict(X_test)"
   ]
  },
  {
   "cell_type": "code",
   "execution_count": 23,
   "metadata": {},
   "outputs": [],
   "source": [
    "lr_pred=lr_pred.reshape(-1,1)\n",
    "lr_pred_test_set=np.concatenate((lr_pred, X_test), axis=1) #this contain input feature of test data and predicted sales price\n",
    "lr_pred_test_set=scalar.inverse_transform(lr_pred_test_set)"
   ]
  },
  {
   "cell_type": "code",
   "execution_count": 24,
   "metadata": {},
   "outputs": [],
   "source": [
    "result_list=[]\n",
    "for index in range(0, len(lr_pred_test_set)):\n",
    "    result_list.append(lr_pred_test_set[index][0]+act_sales[index])\n",
    "lr_pre_series = pd.Series(result_list, name='LR_Predicted')\n",
    "predict_df=predict_df.merge(lr_pre_series, left_index=True, right_index=True)\n",
    "    "
   ]
  },
  {
   "cell_type": "code",
   "execution_count": 31,
   "metadata": {},
   "outputs": [
    {
     "name": "stdout",
     "output_type": "stream",
     "text": [
      "Linear Regression RMSE:  121110.42276469567\n",
      "Linear Regression MAE:  96913.33285027156\n",
      "Linear Regression R2 Score:  0.7327773571277879\n"
     ]
    }
   ],
   "source": [
    "lre_mse = np.sqrt(mean_squared_error(predict_df['LR_Predicted'], monthly_sales['sales'][-12:]))\n",
    "lr_mae = mean_absolute_error(predict_df['LR_Predicted'], monthly_sales['sales'][-12:])\n",
    "lr_r2 = r2_score(predict_df['LR_Predicted'], monthly_sales['sales'][-12:])\n",
    "print('Linear Regression RMSE: ', lre_mse)\n",
    "print('Linear Regression MAE: ', lr_mae)\n",
    "print('Linear Regression R2 Score: ', lr_r2)\n"
   ]
  },
  {
   "cell_type": "code",
   "execution_count": 32,
   "metadata": {},
   "outputs": [
    {
     "name": "stderr",
     "output_type": "stream",
     "text": [
      "C:\\Users\\fawad\\AppData\\Local\\Temp\\ipykernel_13276\\1192655061.py:10: UserWarning: Legend does not support handles for str instances.\n",
      "A proxy artist may be used instead.\n",
      "See: https://matplotlib.org/stable/users/explain/axes/legend_guide.html#controlling-the-legend-entries\n",
      "  plt.legend('Actual Sales', 'Predicted Sales')\n"
     ]
    },
    {
     "data": {
      "image/png": "[encoded data removed]",
      "text/plain": [
       "<Figure size 1500x500 with 1 Axes>"
      ]
     },
     "metadata": {},
     "output_type": "display_data"
    }
   ],
   "source": [
    "#visualization of prediction and actual sales\n",
    "plt.figure(figsize=(15, 5))\n",
    "#actual sales\n",
    "plt.plot(monthly_sales['date'], monthly_sales['sales'], label='Actual Sales')\n",
    "#predicted sales\n",
    "plt.plot(predict_df['date'], predict_df['LR_Predicted'], label='Predicted Sales')\n",
    "plt.title('Customer Sales Prediction Using Linear Regression Model')\n",
    "plt.xlabel('Date')\n",
    "plt.ylabel('Sales')\n",
    "plt.legend('Actual Sales', 'Predicted Sales')   \n",
    "plt.show()"
   ]
  }
 ],
 "metadata": {
  "kernelspec": {
   "display_name": "Python 3 (ipykernel)",
   "language": "python",
   "name": "python3"
  },
  "language_info": {
   "codemirror_mode": {
    "name": "ipython",
    "version": 3
   },
   "file_extension": ".py",
   "mimetype": "text/x-python",
   "name": "python",
   "nbconvert_exporter": "python",
   "pygments_lexer": "ipython3",
   "version": "3.12.7"
  }
 },
 "nbformat": 4,
 "nbformat_minor": 4
}
